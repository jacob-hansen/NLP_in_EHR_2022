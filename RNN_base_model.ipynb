{
 "cells": [
  {
   "cell_type": "code",
   "execution_count": 1,
   "metadata": {},
   "outputs": [
    {
     "name": "stderr",
     "output_type": "stream",
     "text": [
      "[nltk_data] Downloading package punkt to\n",
      "[nltk_data]     /Users/jacobhansen/nltk_data...\n",
      "[nltk_data]   Package punkt is already up-to-date!\n"
     ]
    }
   ],
   "source": [
    "import tensorflow as tf\n",
    "import pandas as pd\n",
    "\n",
    "import nltk\n",
    "nltk.download('punkt')\n",
    "\n",
    "from nltk import word_tokenize"
   ]
  },
  {
   "cell_type": "code",
   "execution_count": 2,
   "metadata": {},
   "outputs": [],
   "source": [
    "url='https://raw.githubusercontent.com/jacob-hansen/NLP_in_EHR_2022/910d9f0fcfeab083dff53ea2e2969c175cc816a0/train.csv'\n",
    "train_df = pd.read_csv(url)\n",
    "# train_df = pd.read_csv('data/train_even.csv')"
   ]
  },
  {
   "cell_type": "code",
   "execution_count": 3,
   "metadata": {},
   "outputs": [],
   "source": [
    "import spacy\n",
    "#loading the english language small model of spacy\n",
    "en = spacy.load('en_core_web_sm')\n",
    "sw_spacy = en.Defaults.stop_words"
   ]
  },
  {
   "cell_type": "code",
   "execution_count": 4,
   "metadata": {},
   "outputs": [],
   "source": [
    "def custom_tokenizer(sentence):\n",
    "    # lower case\n",
    "    sentence = sentence.lower()\n",
    "    # split by the label/sentence separator\n",
    "    sents = sentence.split('. val is ')\n",
    "    # seperate out the label and the next sentence\n",
    "    # print(sents)\n",
    "    new_sents = [sents[0][13:],]\n",
    "    for sent in sents[1:]:\n",
    "        new_sents.extend(sents[1].split('. ', 1))\n",
    "    # print(sents)\n",
    "    # sents = [sents[0]] + [i for i in sents[1].split('. ')]\n",
    "    # remove any trailing whitespace\n",
    "    sents = [i.strip() for i in new_sents]\n",
    "    \n",
    "    # remove stop words in every 1,3,5... sentence\n",
    "    # and apply tokenization\n",
    "    for i in range(0, len(sents), 2):\n",
    "        # remove stop words\n",
    "        sents[i] = [word for word in word_tokenize(sents[i]) if word not in sw_spacy]\n",
    "    # remove last . from the last sentence\n",
    "    sents[-1] = sents[-1][:-1]\n",
    "    \n",
    "    # flatten sents \n",
    "    return_sents = []\n",
    "    for i in range(len(sents)):\n",
    "        if i % 2 == 0:\n",
    "            return_sents.extend(sents[i])\n",
    "        else:\n",
    "            return_sents.append(sents[i])\n",
    "    # repeat the label 3 times (loc = 1,3,5..) for every sentence \n",
    "    final_sents = []\n",
    "    for i in range(0, len(return_sents)):\n",
    "        if i % 2 == 0:\n",
    "            final_sents.append(return_sents[i])\n",
    "        else:\n",
    "            final_sents.append(return_sents[i])\n",
    "            final_sents.append(return_sents[i])\n",
    "            final_sents.append(return_sents[i])\n",
    "\n",
    "    return return_sents\n"
   ]
  },
  {
   "cell_type": "code",
   "execution_count": 5,
   "metadata": {},
   "outputs": [],
   "source": [
    "# apply the custom tokenizer to the dataframe\n",
    "train_df['tokenized'] = train_df['X_train'].apply(custom_tokenizer)"
   ]
  },
  {
   "cell_type": "code",
   "execution_count": 6,
   "metadata": {},
   "outputs": [
    {
     "data": {
      "text/plain": [
       "\"feature is indicator for prior disabilities that the patient had. mark 1 if any disabilities were noted medically.. val is -0.248.  feature is how long a person is in an unresponsive state after an injury. measured in hours.. val is 0.579.  feature is the amount of time between heart beats measured by ms between heartbeats. . val is 0.33.  feature is concentration of the tau protein in cerebrospinal fluid. measured in pg/ml\\n. val is -1.001.  feature is a patient's indication 1-10 of their day to day happiness and satisfaction.. val is -0.535.  feature is how body fat is distributed and how much of someone's body is body fat measured by bmi. range [1-3] where each number is associated to the obesity class that based on which range the bmi falls under. val is -0.191.  feature is how long, in hours, that have passed since the initial injury.. val is -0.176.  feature is how severe the patient's acne appears. 1-10 for the number of pimples or rashes across the face and chest.. val is -0.13.  feature is a head injury can either be open, where a victim suffers from damage to their brain and skull or bone structure, or closed, where there is no damage to the skull or bone structure, but rather internal brain bleeding. val is -0.824.  feature is arm pain that ranges from manageable to severe measured by asking the patient. external signs to arm injury include bleeding, protruding bone, or deformity measured by visible injury. val is 0.061. \""
      ]
     },
     "execution_count": 6,
     "metadata": {},
     "output_type": "execute_result"
    }
   ],
   "source": [
    "train_df.iloc[90, 0].lower()"
   ]
  },
  {
   "cell_type": "code",
   "execution_count": 7,
   "metadata": {},
   "outputs": [
    {
     "data": {
      "text/plain": [
       "['dicator',\n",
       " 'prior',\n",
       " 'disabilities',\n",
       " 'patient',\n",
       " '.',\n",
       " 'mark',\n",
       " '1',\n",
       " 'disabilities',\n",
       " 'noted',\n",
       " 'medically',\n",
       " '.',\n",
       " '-0.248',\n",
       " 'feature',\n",
       " 'long',\n",
       " 'person',\n",
       " 'unresponsive',\n",
       " 'state',\n",
       " 'injury',\n",
       " '.',\n",
       " 'measured',\n",
       " 'hours',\n",
       " '.',\n",
       " '-0.248',\n",
       " 'feature',\n",
       " 'long',\n",
       " 'person',\n",
       " 'unresponsive',\n",
       " 'state',\n",
       " 'injury',\n",
       " '.',\n",
       " 'measured',\n",
       " 'hours',\n",
       " '.',\n",
       " '-0.248',\n",
       " 'feature',\n",
       " 'long',\n",
       " 'person',\n",
       " 'unresponsive',\n",
       " 'state',\n",
       " 'injury',\n",
       " '.',\n",
       " 'measured',\n",
       " 'hours',\n",
       " '.',\n",
       " '-0.248',\n",
       " 'feature',\n",
       " 'long',\n",
       " 'person',\n",
       " 'unresponsive',\n",
       " 'state',\n",
       " 'injury',\n",
       " '.',\n",
       " 'measured',\n",
       " 'hours',\n",
       " '.',\n",
       " '-0.248',\n",
       " 'feature',\n",
       " 'long',\n",
       " 'person',\n",
       " 'unresponsive',\n",
       " 'state',\n",
       " 'injury',\n",
       " '.',\n",
       " 'measured',\n",
       " 'hours',\n",
       " '.',\n",
       " '-0.248',\n",
       " 'feature',\n",
       " 'long',\n",
       " 'person',\n",
       " 'unresponsive',\n",
       " 'state',\n",
       " 'injury',\n",
       " '.',\n",
       " 'measured',\n",
       " 'hours',\n",
       " '.',\n",
       " '-0.248',\n",
       " 'feature',\n",
       " 'long',\n",
       " 'person',\n",
       " 'unresponsive',\n",
       " 'state',\n",
       " 'injury',\n",
       " '.',\n",
       " 'measured',\n",
       " 'hours',\n",
       " '.',\n",
       " '-0.248',\n",
       " 'feature',\n",
       " 'long',\n",
       " 'person',\n",
       " 'unresponsive',\n",
       " 'state',\n",
       " 'injury',\n",
       " '.',\n",
       " 'measured',\n",
       " 'hours',\n",
       " '.',\n",
       " '-0.248',\n",
       " 'feature',\n",
       " 'long',\n",
       " 'person',\n",
       " 'unresponsive',\n",
       " 'state',\n",
       " 'injury',\n",
       " '.',\n",
       " 'measured',\n",
       " 'hours',\n",
       " '.',\n",
       " '-0.248',\n",
       " 'feature',\n",
       " 'long',\n",
       " 'person',\n",
       " 'unresponsive',\n",
       " 'state',\n",
       " 'injury',\n",
       " '.',\n",
       " 'measured',\n",
       " 'hours']"
      ]
     },
     "execution_count": 7,
     "metadata": {},
     "output_type": "execute_result"
    }
   ],
   "source": [
    "custom_tokenizer(train_df.iloc[90, 0])"
   ]
  },
  {
   "cell_type": "code",
   "execution_count": 8,
   "metadata": {},
   "outputs": [],
   "source": [
    "# rename columns to X_train, y_train, and tokenized\n",
    "# train_df = train_df.rename(columns={'0': 'X_train', '1': 'y_train', 'tokenized': 'tokenized'})\n",
    "# train_df.head()"
   ]
  },
  {
   "cell_type": "markdown",
   "metadata": {},
   "source": [
    "# Training RNN"
   ]
  },
  {
   "cell_type": "code",
   "execution_count": 9,
   "metadata": {},
   "outputs": [],
   "source": [
    "# import packages for training RNN\n",
    "from tensorflow.keras.preprocessing.text import Tokenizer\n",
    "from tensorflow.keras.preprocessing.sequence import pad_sequences\n",
    "from tensorflow.keras.models import Sequential\n",
    "from tensorflow.keras.layers import Dense, Embedding, LSTM, SpatialDropout1D\n",
    "from sklearn.model_selection import train_test_split\n",
    "from tensorflow.keras.utils import to_categorical\n",
    "import numpy as np"
   ]
  },
  {
   "cell_type": "code",
   "execution_count": 10,
   "metadata": {},
   "outputs": [],
   "source": [
    "target = train_df['y_train'].values\n",
    "target = to_categorical(target)\n",
    "# convert train_df['tokenized'] to a tensor\n",
    "# and pad the sequences to be the same length\n",
    "max_len = 200\n",
    "tokenizer = Tokenizer()\n",
    "tokenizer.fit_on_texts(train_df['tokenized'].values)\n",
    "X = tokenizer.texts_to_sequences(train_df['tokenized'].values)\n",
    "X = pad_sequences(X, maxlen=max_len)\n"
   ]
  },
  {
   "cell_type": "code",
   "execution_count": 11,
   "metadata": {},
   "outputs": [],
   "source": [
    "from sklearn.model_selection import train_test_split\n",
    "\n",
    "X_train, X_test, y_train, y_test = train_test_split(X, target, test_size=0.2)"
   ]
  },
  {
   "cell_type": "code",
   "execution_count": 12,
   "metadata": {},
   "outputs": [
    {
     "name": "stderr",
     "output_type": "stream",
     "text": [
      "2022-11-27 11:55:23.712628: I tensorflow/core/platform/cpu_feature_guard.cc:193] This TensorFlow binary is optimized with oneAPI Deep Neural Network Library (oneDNN) to use the following CPU instructions in performance-critical operations:  AVX2 FMA\n",
      "To enable them in other operations, rebuild TensorFlow with the appropriate compiler flags.\n"
     ]
    }
   ],
   "source": [
    "# create RNN model \n",
    "model = Sequential()\n",
    "model.add(Embedding(10000, 128, input_length=X.shape[1]))\n",
    "model.add(SpatialDropout1D(0.4))\n",
    "model.add(LSTM(128, dropout=0.2, recurrent_dropout=0.2))\n",
    "model.add(Dense(2, activation='softmax'))\n",
    "model.compile(loss='categorical_crossentropy', optimizer='adam', metrics=['accuracy'])"
   ]
  },
  {
   "cell_type": "code",
   "execution_count": 13,
   "metadata": {},
   "outputs": [
    {
     "name": "stdout",
     "output_type": "stream",
     "text": [
      "Epoch 1/10\n",
      "113/113 [==============================] - 43s 355ms/step - loss: 0.5247 - accuracy: 0.7942 - val_loss: 0.4892 - val_accuracy: 0.8087\n",
      "Epoch 2/10\n",
      "113/113 [==============================] - 43s 378ms/step - loss: 0.5060 - accuracy: 0.7971 - val_loss: 0.4923 - val_accuracy: 0.8087\n",
      "Epoch 3/10\n",
      "113/113 [==============================] - 39s 347ms/step - loss: 0.5015 - accuracy: 0.7971 - val_loss: 0.4868 - val_accuracy: 0.8087\n",
      "Epoch 4/10\n",
      "113/113 [==============================] - 37s 331ms/step - loss: 0.4785 - accuracy: 0.7986 - val_loss: 0.4849 - val_accuracy: 0.8037\n",
      "Epoch 5/10\n",
      "113/113 [==============================] - 39s 348ms/step - loss: 0.3877 - accuracy: 0.8299 - val_loss: 0.5688 - val_accuracy: 0.7625\n",
      "Epoch 6/10\n",
      "113/113 [==============================] - 40s 351ms/step - loss: 0.3356 - accuracy: 0.8485 - val_loss: 0.5676 - val_accuracy: 0.7675\n",
      "Epoch 7/10\n",
      "113/113 [==============================] - 38s 338ms/step - loss: 0.3272 - accuracy: 0.8429 - val_loss: 0.6060 - val_accuracy: 0.7275\n",
      "Epoch 8/10\n",
      "113/113 [==============================] - 38s 332ms/step - loss: 0.2923 - accuracy: 0.8493 - val_loss: 0.7663 - val_accuracy: 0.7337\n",
      "Epoch 9/10\n",
      "113/113 [==============================] - 41s 363ms/step - loss: 0.2782 - accuracy: 0.8590 - val_loss: 0.7375 - val_accuracy: 0.7750\n",
      "Epoch 10/10\n",
      "113/113 [==============================] - 41s 364ms/step - loss: 0.2724 - accuracy: 0.8621 - val_loss: 0.8410 - val_accuracy: 0.7750\n"
     ]
    }
   ],
   "source": [
    "# train model\n",
    "epochs = 10\n",
    "batch_size = 64\n",
    "\n",
    "history = model.fit(X_train, y_train, epochs=epochs, batch_size=batch_size, validation_split=0.1)"
   ]
  },
  {
   "cell_type": "code",
   "execution_count": 14,
   "metadata": {},
   "outputs": [
    {
     "name": "stdout",
     "output_type": "stream",
     "text": [
      "32/32 - 3s - loss: 0.8524 - accuracy: 0.7810 - 3s/epoch - 82ms/step\n",
      "score: 0.85\n",
      "acc: 0.78\n"
     ]
    }
   ],
   "source": [
    "# test the model\n",
    "score, acc = model.evaluate(X_test, y_test, verbose = 2, batch_size = 64)\n",
    "print(\"score: %.2f\" % (score))\n",
    "print(\"acc: %.2f\" % (acc))"
   ]
  },
  {
   "cell_type": "code",
   "execution_count": 35,
   "metadata": {},
   "outputs": [
    {
     "name": "stdout",
     "output_type": "stream",
     "text": [
      "63/63 [==============================] - 3s 42ms/step\n",
      "[[2.0313883e-02 9.7968608e-01]\n",
      " [9.9991155e-01 8.8487781e-05]\n",
      " [7.8403789e-01 2.1596207e-01]\n",
      " ...\n",
      " [6.5342575e-01 3.4657425e-01]\n",
      " [8.2341468e-01 1.7658535e-01]\n",
      " [9.9845254e-01 1.5473857e-03]]\n"
     ]
    }
   ],
   "source": [
    "# find predictions for the test set\n",
    "y_pred = model.predict(X_test)\n",
    "print(y_pred)"
   ]
  },
  {
   "cell_type": "code",
   "execution_count": 40,
   "metadata": {},
   "outputs": [
    {
     "data": {
      "image/png": "[encoded data removed]",
      "text/plain": [
       "<Figure size 432x288 with 2 Axes>"
      ]
     },
     "metadata": {
      "needs_background": "light"
     },
     "output_type": "display_data"
    }
   ],
   "source": [
    "# calculate the confusion matrix\n",
    "from sklearn.metrics import confusion_matrix\n",
    "import seaborn as sns\n",
    "import matplotlib.pyplot as plt\n",
    "\n",
    "# y_pred = np.argmax(y_pred, axis=1)\n",
    "# y_test = np.argmax(y_test, axis=1)\n",
    "cm = confusion_matrix(y_test, y_pred)\n",
    "sns.heatmap(cm, annot=True, fmt='d')\n",
    "# add labels \n",
    "plt.xlabel('Predicted')\n",
    "plt.ylabel('True')\n",
    "plt.show()"
   ]
  },
  {
   "cell_type": "code",
   "execution_count": 41,
   "metadata": {},
   "outputs": [
    {
     "data": {
      "text/plain": [
       "0.5692856014362003"
      ]
     },
     "execution_count": 41,
     "metadata": {},
     "output_type": "execute_result"
    }
   ],
   "source": [
    "# calculate f1 score\n",
    "from sklearn.metrics import f1_score\n",
    "f1_score(y_test, y_pred, average='macro')\n"
   ]
  },
  {
   "cell_type": "code",
   "execution_count": 42,
   "metadata": {},
   "outputs": [
    {
     "data": {
      "text/plain": [
       "0.4891526900754934"
      ]
     },
     "execution_count": 42,
     "metadata": {},
     "output_type": "execute_result"
    }
   ],
   "source": [
    "# calculate f1 score on random shuffle of y_pred\n",
    "from sklearn.utils import shuffle\n",
    "y_pred_shuffled = shuffle(y_pred)\n",
    "f1_score(y_test, y_pred_shuffled, average='macro')"
   ]
  },
  {
   "cell_type": "code",
   "execution_count": null,
   "metadata": {},
   "outputs": [],
   "source": []
  }
 ],
 "metadata": {
  "kernelspec": {
   "display_name": "Python 3.9.7 ('bertLab')",
   "language": "python",
   "name": "python3"
  },
  "language_info": {
   "codemirror_mode": {
    "name": "ipython",
    "version": 3
   },
   "file_extension": ".py",
   "mimetype": "text/x-python",
   "name": "python",
   "nbconvert_exporter": "python",
   "pygments_lexer": "ipython3",
   "version": "3.9.7"
  },
  "orig_nbformat": 4,
  "vscode": {
   "interpreter": {
    "hash": "ad3b91568105f3920bc38a8c6d8f1e40ef9891f30a3db4c4d20c0f70c79e327e"
   }
  }
 },
 "nbformat": 4,
 "nbformat_minor": 2
}
